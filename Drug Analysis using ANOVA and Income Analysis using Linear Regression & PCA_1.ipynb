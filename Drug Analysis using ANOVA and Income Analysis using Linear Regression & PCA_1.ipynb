{
 "cells": [
  {
   "cell_type": "markdown",
   "metadata": {},
   "source": [
    "<div class=\"alert alert-warning\">\n",
    "<b><font color = black\n",
    "\n",
    "A research laboratory was developing a new compound for the relief of severe cases of hay fever. In an experiment with 36 volunteers, the amounts of the two active ingredients (A & B) in the compound were varied at three levels each. Randomization was used in assigning four volunteers to each of the nine treatments. The data on hours of relief can be found in the following .csv file: Fever.csv\n",
    "         "
   ]
  },
  {
   "cell_type": "code",
   "execution_count": 1,
   "metadata": {},
   "outputs": [],
   "source": [
    "import pandas as pd\n",
    "import numpy as np\n",
    "import matplotlib.pyplot as plt\n",
    "import seaborn as sns\n",
    "\n",
    "from statsmodels.formula.api import ols       # For n-way ANOVA\n",
    "from statsmodels.stats.anova import _get_covariance,anova_lm  # For n-way ANOVA\n",
    "\n",
    "%matplotlib inline"
   ]
  },
  {
   "cell_type": "code",
   "execution_count": 2,
   "metadata": {},
   "outputs": [],
   "source": [
    "res_DF = pd.read_csv('Fever.csv')"
   ]
  },
  {
   "cell_type": "code",
   "execution_count": 3,
   "metadata": {},
   "outputs": [
    {
     "data": {
      "text/html": [
       "<div>\n",
       "<style scoped>\n",
       "    .dataframe tbody tr th:only-of-type {\n",
       "        vertical-align: middle;\n",
       "    }\n",
       "\n",
       "    .dataframe tbody tr th {\n",
       "        vertical-align: top;\n",
       "    }\n",
       "\n",
       "    .dataframe thead th {\n",
       "        text-align: right;\n",
       "    }\n",
       "</style>\n",
       "<table border=\"1\" class=\"dataframe\">\n",
       "  <thead>\n",
       "    <tr style=\"text-align: right;\">\n",
       "      <th></th>\n",
       "      <th>A</th>\n",
       "      <th>B</th>\n",
       "      <th>Volunteer</th>\n",
       "      <th>Relief</th>\n",
       "    </tr>\n",
       "  </thead>\n",
       "  <tbody>\n",
       "    <tr>\n",
       "      <th>0</th>\n",
       "      <td>1</td>\n",
       "      <td>1</td>\n",
       "      <td>1</td>\n",
       "      <td>2.4</td>\n",
       "    </tr>\n",
       "    <tr>\n",
       "      <th>1</th>\n",
       "      <td>1</td>\n",
       "      <td>1</td>\n",
       "      <td>2</td>\n",
       "      <td>2.7</td>\n",
       "    </tr>\n",
       "    <tr>\n",
       "      <th>2</th>\n",
       "      <td>1</td>\n",
       "      <td>1</td>\n",
       "      <td>3</td>\n",
       "      <td>2.3</td>\n",
       "    </tr>\n",
       "    <tr>\n",
       "      <th>3</th>\n",
       "      <td>1</td>\n",
       "      <td>1</td>\n",
       "      <td>4</td>\n",
       "      <td>2.5</td>\n",
       "    </tr>\n",
       "    <tr>\n",
       "      <th>4</th>\n",
       "      <td>1</td>\n",
       "      <td>2</td>\n",
       "      <td>1</td>\n",
       "      <td>4.6</td>\n",
       "    </tr>\n",
       "  </tbody>\n",
       "</table>\n",
       "</div>"
      ],
      "text/plain": [
       "   A  B  Volunteer  Relief\n",
       "0  1  1          1     2.4\n",
       "1  1  1          2     2.7\n",
       "2  1  1          3     2.3\n",
       "3  1  1          4     2.5\n",
       "4  1  2          1     4.6"
      ]
     },
     "execution_count": 3,
     "metadata": {},
     "output_type": "execute_result"
    }
   ],
   "source": [
    "res_DF.head()"
   ]
  },
  {
   "cell_type": "code",
   "execution_count": 4,
   "metadata": {},
   "outputs": [
    {
     "name": "stdout",
     "output_type": "stream",
     "text": [
      "<class 'pandas.core.frame.DataFrame'>\n",
      "RangeIndex: 36 entries, 0 to 35\n",
      "Data columns (total 4 columns):\n",
      " #   Column     Non-Null Count  Dtype  \n",
      "---  ------     --------------  -----  \n",
      " 0   A          36 non-null     int64  \n",
      " 1   B          36 non-null     int64  \n",
      " 2   Volunteer  36 non-null     int64  \n",
      " 3   Relief     36 non-null     float64\n",
      "dtypes: float64(1), int64(3)\n",
      "memory usage: 1.2 KB\n"
     ]
    }
   ],
   "source": [
    "res_DF.info()"
   ]
  },
  {
   "cell_type": "code",
   "execution_count": 5,
   "metadata": {},
   "outputs": [
    {
     "data": {
      "text/plain": [
       "A              int64\n",
       "B              int64\n",
       "Volunteer      int64\n",
       "Relief       float64\n",
       "dtype: object"
      ]
     },
     "execution_count": 5,
     "metadata": {},
     "output_type": "execute_result"
    }
   ],
   "source": [
    "res_DF.dtypes"
   ]
  },
  {
   "cell_type": "code",
   "execution_count": 19,
   "metadata": {},
   "outputs": [],
   "source": [
    "for col in res_DF.drop(\"Relief\",axis=1).columns:\n",
    "    res_DF[col] = res_DF[col].astype('category',copy=False)"
   ]
  },
  {
   "cell_type": "code",
   "execution_count": 22,
   "metadata": {},
   "outputs": [
    {
     "data": {
      "text/plain": [
       "A            category\n",
       "B            category\n",
       "Volunteer    category\n",
       "Relief        float64\n",
       "dtype: object"
      ]
     },
     "execution_count": 22,
     "metadata": {},
     "output_type": "execute_result"
    }
   ],
   "source": [
    "res_DF.dtypes"
   ]
  },
  {
   "cell_type": "code",
   "execution_count": 23,
   "metadata": {},
   "outputs": [
    {
     "data": {
      "text/plain": [
       "3    12\n",
       "2    12\n",
       "1    12\n",
       "Name: A, dtype: int64"
      ]
     },
     "execution_count": 23,
     "metadata": {},
     "output_type": "execute_result"
    }
   ],
   "source": [
    "res_DF.A.value_counts()"
   ]
  },
  {
   "cell_type": "code",
   "execution_count": 24,
   "metadata": {},
   "outputs": [
    {
     "data": {
      "text/plain": [
       "3    12\n",
       "2    12\n",
       "1    12\n",
       "Name: B, dtype: int64"
      ]
     },
     "execution_count": 24,
     "metadata": {},
     "output_type": "execute_result"
    }
   ],
   "source": [
    "res_DF.B.value_counts()"
   ]
  },
  {
   "cell_type": "code",
   "execution_count": 8,
   "metadata": {},
   "outputs": [
    {
     "data": {
      "text/plain": [
       "4    9\n",
       "3    9\n",
       "2    9\n",
       "1    9\n",
       "Name: Volunteer, dtype: int64"
      ]
     },
     "execution_count": 8,
     "metadata": {},
     "output_type": "execute_result"
    }
   ],
   "source": [
    "res_DF.Volunteer.value_counts()"
   ]
  },
  {
   "cell_type": "code",
   "execution_count": 9,
   "metadata": {},
   "outputs": [
    {
     "data": {
      "text/plain": [
       "count    36.000000\n",
       "mean      7.183333\n",
       "std       3.272090\n",
       "min       2.300000\n",
       "25%       4.675000\n",
       "50%       6.000000\n",
       "75%       9.325000\n",
       "max      13.500000\n",
       "Name: Relief, dtype: float64"
      ]
     },
     "execution_count": 9,
     "metadata": {},
     "output_type": "execute_result"
    }
   ],
   "source": [
    "res_DF['Relief'].describe()"
   ]
  },
  {
   "cell_type": "markdown",
   "metadata": {},
   "source": [
    "Checking for any outliers data in the relief time"
   ]
  },
  {
   "cell_type": "code",
   "execution_count": 10,
   "metadata": {},
   "outputs": [
    {
     "data": {
      "image/png": "[encoded data removed]",
      "text/plain": [
       "<Figure size 432x288 with 1 Axes>"
      ]
     },
     "metadata": {
      "needs_background": "light"
     },
     "output_type": "display_data"
    }
   ],
   "source": [
    "sns.boxplot(res_DF[\"Relief\"]);"
   ]
  },
  {
   "cell_type": "markdown",
   "metadata": {},
   "source": [
    "From the above 4 steps, we understood that the Tests performed are normally distributed and are homogenoues. Also, that there is no combination of the compounds at any different levels that has outperformed compared to all other combinations"
   ]
  },
  {
   "cell_type": "code",
   "execution_count": 11,
   "metadata": {},
   "outputs": [
    {
     "data": {
      "image/png": "[encoded data removed]",
      "text/plain": [
       "<Figure size 432x288 with 1 Axes>"
      ]
     },
     "metadata": {
      "needs_background": "light"
     },
     "output_type": "display_data"
    }
   ],
   "source": [
    "sns.boxplot(x=res_DF['A'],y=res_DF['Relief'])\n",
    "plt.grid();"
   ]
  },
  {
   "cell_type": "markdown",
   "metadata": {},
   "source": [
    "It is clearly evident that the compound A when observed at level 3 is giving more relief to the Hay fever than when observed at the other 2 levels.\n",
    "\n",
    "Also that, Compound A at level 1 is giving relief for approximately the same number of hours across all the test cases while at level 3, the relief time is varying quite significatly among the patients"
   ]
  },
  {
   "cell_type": "code",
   "execution_count": 12,
   "metadata": {},
   "outputs": [
    {
     "data": {
      "image/png": "[encoded data removed]",
      "text/plain": [
       "<Figure size 432x288 with 1 Axes>"
      ]
     },
     "metadata": {
      "needs_background": "light"
     },
     "output_type": "display_data"
    }
   ],
   "source": [
    "sns.boxplot(x=res_DF['B'],y=res_DF['Relief'])\n",
    "plt.grid();"
   ]
  },
  {
   "cell_type": "code",
   "execution_count": 13,
   "metadata": {},
   "outputs": [],
   "source": [
    "for col in res_DF.drop(\"Relief\",axis=1).columns:\n",
    "    res_DF[col] = res_DF[col].astype('category',copy=False)"
   ]
  },
  {
   "cell_type": "code",
   "execution_count": 14,
   "metadata": {},
   "outputs": [
    {
     "data": {
      "text/plain": [
       "A            category\n",
       "B            category\n",
       "Volunteer    category\n",
       "Relief        float64\n",
       "dtype: object"
      ]
     },
     "execution_count": 14,
     "metadata": {},
     "output_type": "execute_result"
    }
   ],
   "source": [
    "res_DF.dtypes"
   ]
  },
  {
   "cell_type": "markdown",
   "metadata": {},
   "source": [
    "<div class=\"alert alert-success\">\n",
    "<b><font color = black>\n",
    "1.1) State the Null and Alternate Hypothesis for conducting one-way ANOVA for both the variables ‘A’ and ‘B’ individually. \n",
    "</font> </b> </div>."
   ]
  },
  {
   "cell_type": "markdown",
   "metadata": {},
   "source": [
    "<div class=\"alert alert-warning\">\n",
    "<b><font color = blue\n",
    "         \n",
    "Hypothesis for ingredient A : \n",
    "                  \n",
    "Forming Hypothesis:\n",
    "\n",
    "𝐻o: Means of all the 3 levels in ingredient A are equal i.e The mean hours of Relief ('Relief') resulted when the patients were observed with each of the 3 different levels of ingredient A are equal. i.e When ingredient A is added at, either of the 3 levels, to the compound, it does not make any difference on the relief time for the Hay fever.\n",
    "\n",
    "𝐻𝑎: Atleast 1 level of ingredient A gives significantly more hours of relief than the other 2 levels of ingredient A.The mean hours of Relief ('Relief') for at least one level of ingredient A are unequal."
   ]
  },
  {
   "cell_type": "markdown",
   "metadata": {},
   "source": [
    "$\\textbf{Null-hypothesis}$ ~\n",
    "\n",
    "\n",
    "$H_0$: $\\mu_{A1}$ = $\\mu_{A2}$ = $\\mu_{A3}$\n",
    "    \n",
    "$H_0$: The means between various levels are equal\n",
    "\n",
    "<br>\n",
    "\n",
    "$\\textbf{Alternative-hypothesis}$ ~ \n",
    "\n",
    "$H_1$: $\\mu_{A1}$ $\\neq$ $\\mu_{A2}$ = $\\mu_{A3}$\n",
    "<br>\n",
    "&nbsp;&nbsp;&nbsp;&nbsp; &nbsp; &nbsp; &nbsp; &nbsp;(or)\n",
    "<br>\n",
    "$H_1$: $\\mu_{A1}$ = $\\mu_{A2}$ $\\neq$ $\\mu_{A3}$ \n",
    "<br>\n",
    "&nbsp;&nbsp;&nbsp;&nbsp; &nbsp; &nbsp; &nbsp; &nbsp;(or)\n",
    "<br>\n",
    "$H_1$: $\\mu_{A1}$ = $\\mu_{A3}$ $\\neq$ $\\mu_{A2}$\n",
    "<br>\n",
    "&nbsp;&nbsp;&nbsp;&nbsp; &nbsp; &nbsp; &nbsp; &nbsp;(or)\n",
    "<br>\n",
    "$H_1$: $\\mu_{A1}$ $\\neq$ $\\mu_{A2}$ $\\neq$ $\\mu_{A3}$\n",
    "\n",
    "$H_1$: The means of atleast one level of ingredient A are unequal                              \n"
   ]
  },
  {
   "cell_type": "markdown",
   "metadata": {},
   "source": [
    "<div class=\"alert alert-warning\">\n",
    "<b><font color = blue \n",
    "         \n",
    "Hypothesis for ingredient B : \n",
    "                  \n",
    "Forming Hypothesis:\n",
    "\n",
    "𝐻o: Means of all the 3 levels in ingredient B are equal i.e The mean hours of Relief ('Relief') resulted when the patients were observed with each of the 3 different levels of ingredient B are equal. i.e When ingredient B is added at, either of the 3 levels, to the compound, it does not make any difference on the relief time for the Hay fever.\n",
    "\n",
    "𝐻𝑎: Atleast 1 level of ingredient B gives significantly more hours of relief than the other 2 levels of ingredient B.The mean hours of Relief ('Relief') for at least one level of ingredient B are unequal."
   ]
  },
  {
   "cell_type": "markdown",
   "metadata": {},
   "source": [
    "$\\textbf{Null-hypothesis}$ ~\n",
    "\n",
    "\n",
    "$H_0$: $\\mu_{A1}$ = $\\mu_{A2}$ = $\\mu_{A3}$\n",
    "    \n",
    "$H_0$: The means between various levels of ingredient B are equal\n",
    "\n",
    "<br>\n",
    "\n",
    "$\\textbf{Alternative-hypothesis}$ ~\n",
    "\n",
    "$H_1$: $\\mu_{B1}$ $\\neq$ $\\mu_{B2}$ = $\\mu_{b3}$\n",
    "<br>\n",
    "&nbsp;&nbsp;&nbsp;&nbsp; &nbsp; &nbsp; &nbsp; &nbsp;(or)\n",
    "<br>\n",
    "$H_1$: $\\mu_{B1}$ = $\\mu_{B2}$ $\\neq$ $\\mu_{B3}$ \n",
    "<br>\n",
    "&nbsp;&nbsp;&nbsp;&nbsp; &nbsp; &nbsp; &nbsp; &nbsp;(or)\n",
    "<br>\n",
    "$H_1$: $\\mu_{B1}$ = $\\mu_{B3}$ $\\neq$ $\\mu_{B2}$\n",
    "<br>\n",
    "&nbsp;&nbsp;&nbsp;&nbsp; &nbsp; &nbsp; &nbsp; &nbsp;(or)\n",
    "<br>\n",
    "$H_1$: $\\mu_{B1}$ $\\neq$ $\\mu_{B2}$ $\\neq$ $\\mu_{B3}$\n",
    "\n",
    "$H_1$: The means of atleast one level of ingredient B are unequal  \n",
    "\n"
   ]
  },
  {
   "cell_type": "markdown",
   "metadata": {},
   "source": [
    "<div class=\"alert alert-success\">\n",
    "<b><font color = black>\n",
    "1.2) Perform one-way ANOVA for variable ‘A’ with respect to the variable ‘Relief’. State whether the Null Hypothesis is accepted or rejected based on the ANOVA results.\n",
    "</font> </b> </div>.\n"
   ]
  },
  {
   "cell_type": "code",
   "execution_count": 15,
   "metadata": {},
   "outputs": [
    {
     "name": "stdout",
     "output_type": "stream",
     "text": [
      "            df  sum_sq     mean_sq          F        PR(>F)\n",
      "C(A)       2.0  220.02  110.010000  23.465387  4.578242e-07\n",
      "Residual  33.0  154.71    4.688182        NaN           NaN\n"
     ]
    }
   ],
   "source": [
    "formula = 'Relief ~ C(A)'\n",
    "model = ols(formula, res_DF).fit()\n",
    "aov_table1 = anova_lm(model)\n",
    "print(aov_table1)"
   ]
  },
  {
   "cell_type": "markdown",
   "metadata": {},
   "source": [
    "<div class=\"alert alert-warning\">\n",
    "<b><font color = green\n",
    "         \n",
    "Interpretation : Since the p_value obtained from ANOVA analysis for ingredient 'A' is less than $\\alpha$ (0.05). We conclude that there is atleast one level of ingredient A that gives more relief from hay fever than the other two levels as we can clearly see that the means of the 3 levels are different"
   ]
  },
  {
   "cell_type": "markdown",
   "metadata": {},
   "source": [
    "##### If p_value is less than alpha_value, We have evidence to reject the null hypothesis since p value < Level of significance\n",
    "##### If p_value is greater than alpha_value, We fail to reject the null hypothesis since p value > Level of significance\n",
    "Since p_value < alpha_value, here we reject the null hypothesis and accept the alternate hypothesis."
   ]
  },
  {
   "cell_type": "markdown",
   "metadata": {},
   "source": [
    "<div class=\"alert alert-success\">\n",
    "<b><font color = black>\n",
    "1.3) Perform one-way ANOVA for variable ‘B’ with respect to the variable ‘Relief’. State whether the Null Hypothesis is accepted or rejected based on the ANOVA results\n",
    "</font> </b> </div>"
   ]
  },
  {
   "cell_type": "code",
   "execution_count": 16,
   "metadata": {},
   "outputs": [
    {
     "name": "stdout",
     "output_type": "stream",
     "text": [
      "            df  sum_sq    mean_sq         F   PR(>F)\n",
      "C(B)       2.0  123.66  61.830000  8.126777  0.00135\n",
      "Residual  33.0  251.07   7.608182       NaN      NaN\n"
     ]
    }
   ],
   "source": [
    "formula = 'Relief ~ C(B)'\n",
    "model = ols(formula, res_DF).fit()\n",
    "aov_table2 = anova_lm(model)\n",
    "print(aov_table2)"
   ]
  },
  {
   "cell_type": "markdown",
   "metadata": {},
   "source": [
    "<div class=\"alert alert-warning\">\n",
    "<b><font color = green\n",
    "         \n",
    "Interpretation : Since the p_value obtained from ANOVA analysis for ingredient 'B' is less than $\\alpha$ (0.05). We conclude that there is atleast one level of ingredient B that gives more relief from hay fever than the other two levels as we can clearly see that the means of the 3 levels is different\n",
    "\n"
   ]
  },
  {
   "cell_type": "markdown",
   "metadata": {},
   "source": [
    "<div class=\"alert alert-success\">\n",
    "<b><font color = black>\n",
    "1.4) Analyse the effects of one variable on another with the help of an interaction plot. \n",
    "What is the interaction between the two treatments?\n",
    "[hint: use the ‘pointplot’ function from the ‘seaborn’ function]\n",
    "</font> </b> </div>.\n"
   ]
  },
  {
   "cell_type": "code",
   "execution_count": 17,
   "metadata": {},
   "outputs": [
    {
     "data": {
      "text/plain": [
       "<matplotlib.axes._subplots.AxesSubplot at 0x9ba36d0>"
      ]
     },
     "execution_count": 17,
     "metadata": {},
     "output_type": "execute_result"
    },
    {
     "data": {
      "image/png": "[encoded data removed]",
      "text/plain": [
       "<Figure size 432x288 with 1 Axes>"
      ]
     },
     "metadata": {
      "needs_background": "light"
     },
     "output_type": "display_data"
    }
   ],
   "source": [
    "sns.pointplot(x='A', y='Relief', data=res_DF, hue='B', ci=None )"
   ]
  },
  {
   "cell_type": "markdown",
   "metadata": {},
   "source": [
    "<div class=\"alert alert-warning\">\n",
    "<b><font color = green\n",
    "         \n",
    "Interpretation : Since both lines are non-parallel lines, that means there is interaction effect of the 2 variables.This interaction effect indicates that the relationship between ingredient A and Relief depends on the value of ingredient 'B'. for instance: You get maximum hours of relief , if one use ingredient 'A' at variation level 3 and 'B' at variation level 3. And, hours of relief doesnot differ much when ingredient A is interacted with level 2 and 3 variation for component B.\n",
    "\n",
    "\n",
    "\n"
   ]
  },
  {
   "cell_type": "markdown",
   "metadata": {},
   "source": [
    "<div class=\"alert alert-success\">\n",
    "<b><font color = black>\n",
    "1.5) Perform a two-way ANOVA based on the different ingredients (variable ‘A’ & ‘B’) with the variable 'Relief' and state your results\n",
    "</font> </b> </div>."
   ]
  },
  {
   "cell_type": "markdown",
   "metadata": {},
   "source": [
    "<div class=\"alert alert-warning\">\n",
    "<b><font color = blue>\n",
    "\n",
    "Forming Hypothesis:\n",
    "\n",
    "𝐻o:  There is no interaction between the 2 ingredients A and B i.e all combinations of various levels of A and B give the same hours of relief\n",
    "    \n",
    "𝐻𝑎:  Atleast one of the combinations of A and B levels gives more hours of relief than the other combinations.\n",
    "    \n",
    "</font> </b> </div>"
   ]
  },
  {
   "cell_type": "code",
   "execution_count": 18,
   "metadata": {},
   "outputs": [
    {
     "name": "stdout",
     "output_type": "stream",
     "text": [
      "             df   sum_sq     mean_sq            F        PR(>F)\n",
      "C(A)        2.0  220.020  110.010000  1827.858462  1.514043e-29\n",
      "C(B)        2.0  123.660   61.830000  1027.329231  3.348751e-26\n",
      "C(A):C(B)   4.0   29.425    7.356250   122.226923  6.972083e-17\n",
      "Residual   27.0    1.625    0.060185          NaN           NaN\n"
     ]
    }
   ],
   "source": [
    "formula = 'Relief ~ C(A) + C(B) + C(A):C(B)'\n",
    "model = ols(formula, res_DF).fit()\n",
    "aov_table3 = anova_lm(model)\n",
    "print(aov_table3)"
   ]
  },
  {
   "cell_type": "markdown",
   "metadata": {},
   "source": [
    "<div class=\"alert alert-warning\">\n",
    "<b><font color = green\n",
    "         \n",
    "Interpretation : Based on the p-values at a significance level of 0.05 The p-value for A is 1.514043e-29, which indicates that the levels of A leads to different hours of relief. The p-value for B is 3.348751e-26, which indicates that the levels of B leads to different hours of relief. The p-value for the interaction between A*B is 6.972083e-17,which implies that the relationship between A and Relief depends on the value of B.Because the interaction effect between A and B is statistically significant, you cannot interpret the effects of A and B without considering the interaction effect.\n",
    "\n",
    "\n",
    "\n"
   ]
  },
  {
   "cell_type": "code",
   "execution_count": null,
   "metadata": {},
   "outputs": [],
   "source": []
  }
 ],
 "metadata": {
  "kernelspec": {
   "display_name": "Python 3",
   "language": "python",
   "name": "python3"
  },
  "language_info": {
   "codemirror_mode": {
    "name": "ipython",
    "version": 3
   },
   "file_extension": ".py",
   "mimetype": "text/x-python",
   "name": "python",
   "nbconvert_exporter": "python",
   "pygments_lexer": "ipython3",
   "version": "3.7.6"
  }
 },
 "nbformat": 4,
 "nbformat_minor": 4
}
